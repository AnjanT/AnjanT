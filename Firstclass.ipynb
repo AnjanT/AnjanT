{
  "nbformat": 4,
  "nbformat_minor": 0,
  "metadata": {
    "colab": {
      "name": "Firstclass.ipynb",
      "provenance": [],
      "collapsed_sections": [],
      "authorship_tag": "ABX9TyMoQNQxxYZer882hHszTTCN",
      "include_colab_link": true
    },
    "kernelspec": {
      "name": "python3",
      "display_name": "Python 3"
    },
    "language_info": {
      "name": "python"
    }
  },
  "cells": [
    {
      "cell_type": "markdown",
      "metadata": {
        "id": "view-in-github",
        "colab_type": "text"
      },
      "source": [
        "<a href=\"https://colab.research.google.com/github/AnjanT/AnjanT/blob/main/Firstclass.ipynb\" target=\"_parent\"><img src=\"https://colab.research.google.com/assets/colab-badge.svg\" alt=\"Open In Colab\"/></a>"
      ]
    },
    {
      "cell_type": "code",
      "source": [
        "if not 3 > 1:\n",
        "  print(\"Something\")"
      ],
      "metadata": {
        "id": "mskRoTa2prx5"
      },
      "execution_count": 81,
      "outputs": []
    },
    {
      "cell_type": "code",
      "source": [
        "n = 0\n",
        "while n < 99:\n",
        "  n +=1\n",
        "  print(n, end=\" \")"
      ],
      "metadata": {
        "colab": {
          "base_uri": "https://localhost:8080/"
        },
        "id": "2zWJQJAfqLAV",
        "outputId": "21ca7428-ad60-4080-a6be-8deff0a33beb"
      },
      "execution_count": 97,
      "outputs": [
        {
          "output_type": "stream",
          "name": "stdout",
          "text": [
            "1 2 3 4 5 6 7 8 9 10 11 12 13 14 15 16 17 18 19 20 21 22 23 24 25 26 27 28 29 30 31 32 33 34 35 36 37 38 39 40 41 42 43 44 45 46 47 48 49 50 51 52 53 54 55 56 57 58 59 60 61 62 63 64 65 66 67 68 69 70 71 72 73 74 75 76 77 78 79 80 81 82 83 84 85 86 87 88 89 90 91 92 93 94 95 96 97 98 99 "
          ]
        }
      ]
    },
    {
      "cell_type": "code",
      "source": [
        "all_fruits = [\"apple\",\"banana\", \"orange\"]\n",
        "for fruit in all_fruits:\n",
        "   print(fruit)"
      ],
      "metadata": {
        "colab": {
          "base_uri": "https://localhost:8080/"
        },
        "id": "yJf4EzHssUDu",
        "outputId": "daf2bf8e-0889-4179-861e-dbdd5bad5973"
      },
      "execution_count": 95,
      "outputs": [
        {
          "output_type": "stream",
          "name": "stdout",
          "text": [
            "apple\n",
            "banana\n",
            "orange\n"
          ]
        }
      ]
    },
    {
      "cell_type": "code",
      "source": [
        "print('Numbers from 1 to 100:')\n",
        "n = 1\n",
        "while n <= 100:\n",
        "    print(n, end=' ')\n",
        "    n += 1\n",
        "  "
      ],
      "metadata": {
        "colab": {
          "base_uri": "https://localhost:8080/"
        },
        "id": "RJ-ENKUctYIt",
        "outputId": "b713d104-09bd-462c-c18b-90454874d731"
      },
      "execution_count": 99,
      "outputs": [
        {
          "output_type": "stream",
          "name": "stdout",
          "text": [
            "Numbers from 1 to 100:\n",
            "1 2 3 4 5 6 7 8 9 10 11 12 13 14 15 16 17 18 19 20 21 22 23 24 25 26 27 28 29 30 31 32 33 34 35 36 37 38 39 40 41 42 43 44 45 46 47 48 49 50 51 52 53 54 55 56 57 58 59 60 61 62 63 64 65 66 67 68 69 70 71 72 73 74 75 76 77 78 79 80 81 82 83 84 85 86 87 88 89 90 91 92 93 94 95 96 97 98 99 100 "
          ]
        }
      ]
    },
    {
      "cell_type": "code",
      "source": [
        "def num(n):\n",
        "    if n > 0:\n",
        "        num(n - 1)\n",
        "        print(n, end = ' ')\n",
        "\n",
        "print('Numbers from 1 to 100:')\n",
        "print_num(100)"
      ],
      "metadata": {
        "colab": {
          "base_uri": "https://localhost:8080/"
        },
        "id": "1u1Zn1eCttDj",
        "outputId": "49c213f6-126c-4b27-bdd6-e5fd2c85b940"
      },
      "execution_count": 101,
      "outputs": [
        {
          "output_type": "stream",
          "name": "stdout",
          "text": [
            "Numbers from 1 to 100:\n",
            "1 2 3 4 5 6 7 8 9 10 11 12 13 14 15 16 17 18 19 20 21 22 23 24 25 26 27 28 29 30 31 32 33 34 35 36 37 38 39 40 41 42 43 44 45 46 47 48 49 50 51 52 53 54 55 56 57 58 59 60 61 62 63 64 65 66 67 68 69 70 71 72 73 74 75 76 77 78 79 80 81 82 83 84 85 86 87 88 89 90 91 92 93 94 95 96 97 98 99 100 "
          ]
        }
      ]
    },
    {
      "cell_type": "code",
      "source": [
        "def num(n):\n",
        "  if n > 0:\n",
        "    num(n - 1)\n",
        "    print(n, end=\" \")\n",
        "num(-100)"
      ],
      "metadata": {
        "id": "MRs-lWy2t_DZ"
      },
      "execution_count": 141,
      "outputs": []
    },
    {
      "cell_type": "code",
      "source": [
        "for n in range(1, 101):\n",
        "  print(n, end = ' ')\n",
        "  \n",
        "    "
      ],
      "metadata": {
        "colab": {
          "base_uri": "https://localhost:8080/"
        },
        "id": "RJDWI6SR0yHq",
        "outputId": "1d73dc9c-173c-4bde-82fa-27be24a2624b"
      },
      "execution_count": 161,
      "outputs": [
        {
          "output_type": "stream",
          "name": "stdout",
          "text": [
            "1 2 3 4 5 6 7 8 9 10 11 12 13 14 15 16 17 18 19 20 21 22 23 24 25 26 27 28 29 30 31 32 33 34 35 36 37 38 39 40 41 42 43 44 45 46 47 48 49 50 51 52 53 54 55 56 57 58 59 60 61 62 63 64 65 66 67 68 69 70 71 72 73 74 75 76 77 78 79 80 81 82 83 84 85 86 87 88 89 90 91 92 93 94 95 96 97 98 99 100 "
          ]
        }
      ]
    },
    {
      "cell_type": "code",
      "source": [
        "n = 1\n",
        "while n <= 100:\n",
        "  print(n, end = ' ')\n",
        "  n = n + 1"
      ],
      "metadata": {
        "colab": {
          "base_uri": "https://localhost:8080/"
        },
        "id": "M-Z0Wmly2mfk",
        "outputId": "c6665234-c40e-4192-ff87-0b5e4cda49a5"
      },
      "execution_count": 165,
      "outputs": [
        {
          "output_type": "stream",
          "name": "stdout",
          "text": [
            "1 2 3 4 5 6 7 8 9 10 11 12 13 14 15 16 17 18 19 20 21 22 23 24 25 26 27 28 29 30 31 32 33 34 35 36 37 38 39 40 41 42 43 44 45 46 47 48 49 50 51 52 53 54 55 56 57 58 59 60 61 62 63 64 65 66 67 68 69 70 71 72 73 74 75 76 77 78 79 80 81 82 83 84 85 86 87 88 89 90 91 92 93 94 95 96 97 98 99 100 "
          ]
        }
      ]
    },
    {
      "cell_type": "code",
      "source": [
        "n = 1\n",
        "while n != 5:\n",
        "   print(\"Im anjan\")\n",
        "   n = n + 1 \n",
        "  "
      ],
      "metadata": {
        "colab": {
          "base_uri": "https://localhost:8080/"
        },
        "id": "u9oMpsNF3MNA",
        "outputId": "df93c9dd-a554-49e3-d884-df886cad50b4"
      },
      "execution_count": 184,
      "outputs": [
        {
          "output_type": "stream",
          "name": "stdout",
          "text": [
            "Im anjan\n",
            "Im anjan\n",
            "Im anjan\n",
            "Im anjan\n"
          ]
        }
      ]
    },
    {
      "cell_type": "code",
      "source": [
        "print('e.g. print(\"Hello \" + \"world\")')\n"
      ],
      "metadata": {
        "colab": {
          "base_uri": "https://localhost:8080/"
        },
        "id": "kJPZqAHwT-uz",
        "outputId": "70e80efb-3d73-4e6e-a932-5aea756d3c15"
      },
      "execution_count": 185,
      "outputs": [
        {
          "output_type": "stream",
          "name": "stdout",
          "text": [
            "e.g. print(\"Hello \" + \"world\")\n"
          ]
        }
      ]
    },
    {
      "cell_type": "code",
      "source": [
        "\n",
        "n = input(\"What is your Name?\",)\n",
        "print(len(n)) "
      ],
      "metadata": {
        "colab": {
          "base_uri": "https://localhost:8080/"
        },
        "id": "thxPK8XGiGDy",
        "outputId": "548e23c4-d2b9-4d07-e2c7-6c234fb24db9"
      },
      "execution_count": 199,
      "outputs": [
        {
          "output_type": "stream",
          "name": "stdout",
          "text": [
            "What is your Name?anjan\n",
            "5\n"
          ]
        }
      ]
    },
    {
      "cell_type": "code",
      "source": [
        "a = input(\"a: \")\n",
        "b = input(\"b: \")\n",
        "c = a\n",
        "a = b\n",
        "b = c\n",
        "print(\"a: \" + a)\n",
        "print(\"b: \" + b)\n"
      ],
      "metadata": {
        "colab": {
          "base_uri": "https://localhost:8080/"
        },
        "id": "40HivjxsqFis",
        "outputId": "d458743c-3add-45b7-c343-2b150469d152"
      },
      "execution_count": 17,
      "outputs": [
        {
          "output_type": "stream",
          "name": "stdout",
          "text": [
            "a: 9\n",
            "b: y\n",
            "a: y\n",
            "b: 9\n"
          ]
        }
      ]
    },
    {
      "cell_type": "code",
      "source": [
        "print( len( input(\"What is your name? \") ) )"
      ],
      "metadata": {
        "colab": {
          "base_uri": "https://localhost:8080/"
        },
        "id": "bTgT2dggjiuK",
        "outputId": "b36dd294-3593-423e-c7de-b2579cf1decb"
      },
      "execution_count": 198,
      "outputs": [
        {
          "output_type": "stream",
          "name": "stdout",
          "text": [
            "What is your name? anjan\n",
            "5\n"
          ]
        }
      ]
    },
    {
      "cell_type": "code",
      "source": [
        "print(1234 + 456)\n",
        "\n",
        "print(\"hello\" [0])"
      ],
      "metadata": {
        "colab": {
          "base_uri": "https://localhost:8080/"
        },
        "id": "uB-F6X7eDIaO",
        "outputId": "522ff1f1-15fe-466e-bde8-e57dfcb2e530"
      },
      "execution_count": 25,
      "outputs": [
        {
          "output_type": "stream",
          "name": "stdout",
          "text": [
            "1690\n",
            "h\n"
          ]
        }
      ]
    },
    {
      "cell_type": "code",
      "source": [
        "# Python program to print numbers from 1 to 100\n",
        "\n",
        "def print_num(n):\n",
        "   if n > 0:\n",
        "     print (n)\n",
        "     #print_num(n - 1)\n",
        "     print(n, end = ' ')\n",
        "\n",
        "print('Numbers from 1 to 100:')\n",
        "print_num(100)"
      ],
      "metadata": {
        "colab": {
          "base_uri": "https://localhost:8080/"
        },
        "id": "Uc7Pu2tDwAvd",
        "outputId": "5b9952c3-593c-49d8-d5b6-80bbd32c95ab"
      },
      "execution_count": 156,
      "outputs": [
        {
          "output_type": "stream",
          "name": "stdout",
          "text": [
            "Numbers from 1 to 100:\n",
            "100\n",
            "100 "
          ]
        }
      ]
    },
    {
      "cell_type": "code",
      "source": [
        "print('Numbers from 1 to 100:')\n",
        "for n in range(1, 101):\n",
        "    print(n, end=' ')"
      ],
      "metadata": {
        "colab": {
          "base_uri": "https://localhost:8080/"
        },
        "id": "JAg7qCClsnLs",
        "outputId": "afaf8abc-8d32-4c36-c702-156dbe43c759"
      },
      "execution_count": 96,
      "outputs": [
        {
          "output_type": "stream",
          "name": "stdout",
          "text": [
            "Numbers from 1 to 100:\n",
            "1 2 3 4 5 6 7 8 9 10 11 12 13 14 15 16 17 18 19 20 21 22 23 24 25 26 27 28 29 30 31 32 33 34 35 36 37 38 39 40 41 42 43 44 45 46 47 48 49 50 51 52 53 54 55 56 57 58 59 60 61 62 63 64 65 66 67 68 69 70 71 72 73 74 75 76 77 78 79 80 81 82 83 84 85 86 87 88 89 90 91 92 93 94 95 96 97 98 99 100 "
          ]
        }
      ]
    },
    {
      "cell_type": "code",
      "execution_count": 13,
      "metadata": {
        "id": "N67fW0bpsryv",
        "colab": {
          "base_uri": "https://localhost:8080/"
        },
        "outputId": "37ec79c2-22af-484e-c5a3-5195ea987ab5"
      },
      "outputs": [
        {
          "output_type": "stream",
          "name": "stdout",
          "text": [
            "None\n"
          ]
        }
      ],
      "source": [
        "def outer_function(a, b):\n",
        "    def inner_function(c, d):\n",
        "      return c + d\n",
        "      return inner_function(a, b)\n",
        "result = outer_function(5, 10)\n",
        "print(result)"
      ]
    },
    {
      "cell_type": "code",
      "source": [
        "speech = \"She said: \\\"Hi\\\"\"\n",
        "print(speech)"
      ],
      "metadata": {
        "colab": {
          "base_uri": "https://localhost:8080/"
        },
        "id": "Vn4HuWjLWaBe",
        "outputId": "44b94ca5-973b-4460-a18e-b18b50c7c6a3"
      },
      "execution_count": 16,
      "outputs": [
        {
          "output_type": "stream",
          "name": "stdout",
          "text": [
            "She said: \"Hi\"\n"
          ]
        }
      ]
    },
    {
      "cell_type": "code",
      "source": [
        "days = 365\n",
        "print(f\"How many days in a year : {days}\")"
      ],
      "metadata": {
        "colab": {
          "base_uri": "https://localhost:8080/"
        },
        "id": "T3aaAov3Wkqt",
        "outputId": "fb0c04de-fa2d-4032-ccac-38ce7963d295"
      },
      "execution_count": 25,
      "outputs": [
        {
          "output_type": "stream",
          "name": "stdout",
          "text": [
            "How many days in a year : 365\n"
          ]
        }
      ]
    },
    {
      "cell_type": "code",
      "source": [
        "n = 354\n",
        "new_n = float(n)\n",
        "print(new_n)"
      ],
      "metadata": {
        "colab": {
          "base_uri": "https://localhost:8080/"
        },
        "id": "pKC9YoAQYIqq",
        "outputId": "89229718-4453-4cf4-d2bd-944f41ca9657"
      },
      "execution_count": 26,
      "outputs": [
        {
          "output_type": "stream",
          "name": "stdout",
          "text": [
            "354.0\n"
          ]
        }
      ]
    },
    {
      "cell_type": "code",
      "source": [
        "a = 4\n",
        "a += 2\n",
        "print(a)"
      ],
      "metadata": {
        "colab": {
          "base_uri": "https://localhost:8080/"
        },
        "id": "KIDo9HFzYTm_",
        "outputId": "7d283a61-8042-4396-c43e-84353ff8e62d"
      },
      "execution_count": 31,
      "outputs": [
        {
          "output_type": "stream",
          "name": "stdout",
          "text": [
            "6\n"
          ]
        }
      ]
    },
    {
      "cell_type": "code",
      "source": [
        "def my_function():\n",
        "  print(\"Hello\")\n",
        "name = input(\"Your name:\")\n",
        "\n"
      ],
      "metadata": {
        "colab": {
          "base_uri": "https://localhost:8080/"
        },
        "id": "sMwAef0JZ4P5",
        "outputId": "5cb40ebc-e426-42fd-e58d-162bf170411f"
      },
      "execution_count": 40,
      "outputs": [
        {
          "name": "stdout",
          "output_type": "stream",
          "text": [
            "Your name:nani\n"
          ]
        }
      ]
    },
    {
      "cell_type": "code",
      "source": [
        "my_function()\n",
        "my_function()\n"
      ],
      "metadata": {
        "colab": {
          "base_uri": "https://localhost:8080/"
        },
        "id": "eHkze2zZbEMS",
        "outputId": "24f8b99c-3357-4e91-9765-bd13943aa5f5"
      },
      "execution_count": 42,
      "outputs": [
        {
          "output_type": "stream",
          "name": "stdout",
          "text": [
            "Hello\n",
            "Hello\n"
          ]
        }
      ]
    },
    {
      "cell_type": "code",
      "source": [
        "def add(n1, n2):\n",
        "    print(n1+n2)\n",
        "add(2, 3)"
      ],
      "metadata": {
        "colab": {
          "base_uri": "https://localhost:8080/"
        },
        "id": "E-zy3Hl0bP_S",
        "outputId": "8bb6f3da-f1de-454b-a588-ec3bfaaa57eb"
      },
      "execution_count": 48,
      "outputs": [
        {
          "output_type": "stream",
          "name": "stdout",
          "text": [
            "5\n"
          ]
        }
      ]
    },
    {
      "cell_type": "code",
      "source": [
        "def add(n1, n2):\n",
        "   return n1+n2\n",
        "result=add(2, 6)\n",
        "print(result)"
      ],
      "metadata": {
        "colab": {
          "base_uri": "https://localhost:8080/"
        },
        "id": "HV_XpdqScRQC",
        "outputId": "7c794bd7-ca40-432f-b279-13f18adeca2f"
      },
      "execution_count": 53,
      "outputs": [
        {
          "output_type": "stream",
          "name": "stdout",
          "text": [
            "8\n"
          ]
        }
      ]
    },
    {
      "cell_type": "code",
      "source": [
        "print(\"Hi there! Are you confused with ur band name? We are here to help\")\n",
        "\n",
        "Name1 = input(\"Enter your city you grew up in: \\n \")\n",
        "\n",
        "Name2 = input(\"Enter your pet's name: \\n \")\n",
        "\n",
        "final = Name1 + \" \"+Name2\n",
        "\n",
        "print(\"Congratulations! Your new band name is \"+ final)"
      ],
      "metadata": {
        "colab": {
          "base_uri": "https://localhost:8080/"
        },
        "id": "b-LO3LX3deIB",
        "outputId": "5d5a72c9-43d6-44b1-a100-373fc1856333"
      },
      "execution_count": 54,
      "outputs": [
        {
          "output_type": "stream",
          "name": "stdout",
          "text": [
            "Hi there! Are you confused with ur band name? We are here to help\n",
            "Enter your city you grew up in: \n",
            " Hyderabad\n",
            "Enter your pet's name: \n",
            " Anjan\n",
            "Congratulations! Your new band name is Hyderabad Anjan\n"
          ]
        }
      ]
    },
    {
      "cell_type": "code",
      "source": [
        "n = 2\n",
        "def my_function():\n",
        "    n = 3\n",
        "print(n)\n",
        "my_function()"
      ],
      "metadata": {
        "colab": {
          "base_uri": "https://localhost:8080/"
        },
        "id": "HuA74YAKk6Ho",
        "outputId": "5a60cb9e-5144-49ee-8be0-785459b7f714"
      },
      "execution_count": 60,
      "outputs": [
        {
          "output_type": "stream",
          "name": "stdout",
          "text": [
            "2\n"
          ]
        }
      ]
    },
    {
      "cell_type": "code",
      "source": [
        "n = 5\n",
        "if n > 2:\n",
        "    print(\"Larger than 2\")\n"
      ],
      "metadata": {
        "colab": {
          "base_uri": "https://localhost:8080/"
        },
        "id": "8doFBHx6muhB",
        "outputId": "5f0f9c21-e602-4ed1-de5c-5707041b1a91"
      },
      "execution_count": 63,
      "outputs": [
        {
          "output_type": "stream",
          "name": "stdout",
          "text": [
            "Larger than 2\n"
          ]
        }
      ]
    },
    {
      "cell_type": "code",
      "source": [
        "age = 18\n",
        "if age > 16:\n",
        "    print(\"Can drive\")\n",
        "else:\n",
        "    print(\"Don't drive\")"
      ],
      "metadata": {
        "colab": {
          "base_uri": "https://localhost:8080/"
        },
        "id": "8N1dM3vjn7xV",
        "outputId": "2ee67503-cf99-461d-fe5c-350d7068a638"
      },
      "execution_count": 64,
      "outputs": [
        {
          "output_type": "stream",
          "name": "stdout",
          "text": [
            "Can drive\n"
          ]
        }
      ]
    },
    {
      "cell_type": "code",
      "source": [
        "weather = input(\"Type your Wheather (sunny/rain/snow):\")\n",
        "if weather == \"rain\":\n",
        "    print(\"bring umbrella\")\n",
        "elif weather == \"sunny\":\n",
        "    print(\"bring sunglasses\")\n",
        "elif weather == \"snow\":\n",
        "    print(\"bring gloves\")"
      ],
      "metadata": {
        "colab": {
          "base_uri": "https://localhost:8080/"
        },
        "id": "-PrUzdJWoHLt",
        "outputId": "888bee7b-0ee3-4365-da88-b0de6a16151b"
      },
      "execution_count": 71,
      "outputs": [
        {
          "output_type": "stream",
          "name": "stdout",
          "text": [
            "Type your Wheather (sunny/rain/snow):rain\n",
            "bring umbrella\n"
          ]
        }
      ]
    },
    {
      "cell_type": "code",
      "source": [
        "s = 55\n",
        "if s < 60 and s > 50:\n",
        "  print(\"Can't Drive\")"
      ],
      "metadata": {
        "colab": {
          "base_uri": "https://localhost:8080/"
        },
        "id": "emg-1PLPo959",
        "outputId": "fc862e4e-ed47-4e1f-bb33-0a942f59c41e"
      },
      "execution_count": 74,
      "outputs": [
        {
          "output_type": "stream",
          "name": "stdout",
          "text": [
            "Can't Drive\n"
          ]
        }
      ]
    },
    {
      "cell_type": "code",
      "source": [
        "age = 12\n",
        "if age < 16 or age > 200:\n",
        "    print(\"Can't drive\")"
      ],
      "metadata": {
        "colab": {
          "base_uri": "https://localhost:8080/"
        },
        "id": "60sMpUl5pRTL",
        "outputId": "b6e6996e-14ea-477a-e005-6396fa3765c2"
      },
      "execution_count": 76,
      "outputs": [
        {
          "output_type": "stream",
          "name": "stdout",
          "text": [
            "Can't drive\n"
          ]
        }
      ]
    },
    {
      "cell_type": "code",
      "source": [
        "def divide(n1, n2):\n",
        "    result = n1 / n2\n",
        "divide(4, 5)\n",
        "print(result)"
      ],
      "metadata": {
        "colab": {
          "base_uri": "https://localhost:8080/"
        },
        "id": "5MJb7q5GmZlG",
        "outputId": "0dd242c0-868c-406c-db01-4111b55ee525"
      },
      "execution_count": 61,
      "outputs": [
        {
          "output_type": "stream",
          "name": "stdout",
          "text": [
            "8\n"
          ]
        }
      ]
    },
    {
      "cell_type": "code",
      "source": [
        "def foo(a, b=4, c=6):\n",
        "    print(a, b, c)\n",
        " \n",
        "foo(20, c=12)\n"
      ],
      "metadata": {
        "colab": {
          "base_uri": "https://localhost:8080/"
        },
        "id": "C1moe4oXKQAl",
        "outputId": "84872e73-39f1-403a-b333-bffcf142e953"
      },
      "execution_count": 15,
      "outputs": [
        {
          "output_type": "stream",
          "name": "stdout",
          "text": [
            "20 4 12\n"
          ]
        }
      ]
    },
    {
      "cell_type": "code",
      "source": [
        "numbers = [1, 1, 2, 3, 5, 8, 13, 21, 34, 55]\n",
        "result = [num + 3 for num in numbers if num % 2 == 0]\n",
        "print(result)"
      ],
      "metadata": {
        "colab": {
          "base_uri": "https://localhost:8080/"
        },
        "id": "hgCMBZd1L043",
        "outputId": "b24b840d-8270-4481-d92e-33c59bdacaf9"
      },
      "execution_count": 14,
      "outputs": [
        {
          "output_type": "stream",
          "name": "stdout",
          "text": [
            "[5, 11, 37]\n"
          ]
        }
      ]
    },
    {
      "cell_type": "markdown",
      "source": [
        "Guido Van Rosuum\n",
        "Python 2 and Python 3,  Python 3.10.5 is launched on 2003\n",
        "Python 2----> print() ---> statement\n",
        "Python 3----> print() ---> Function( Funtions is execute perticuler tasks, Define & call).\n",
        "Pyhton 2 raw_input() -----> statement\n",
        "Python 3 input() ----> function\n",
        "\n",
        "charactors Single charactor ----> ''\n",
        "A to Z\n",
        "a to z\n",
        "string- Group of charactors ---> \"\"\n",
        "\n",
        "Global Variable are unique for world wide\n",
        "Operators: performs any operation on one or more variable/values\n",
        "1. assignment operators\n",
        "2.Comparison Operators/Relational Operators\n",
        "3.Indentity operators\n",
        "4.arthemetic operators\n",
        "5.Logical operators\n",
        "6.Membership Operators\n",
        "7.Bitwise operators\n",
        "\n",
        "\n",
        "\n",
        "\n",
        "09-07-2022- Saturday\n",
        "\n",
        "1.Data types : Classification or categorization is referred to As Data Type.\n",
        " a.Numaric Datatype ( Int,float,Complex)\n",
        " b.Sequence Data Type (Lists,tuple,sets,dict)\n",
        " c.Boolean (True ,False)\n",
        "2.Mutable VS Immutable Data Types\n",
        "3.Slicing in Python\n",
        "\n",
        "\n",
        "\n",
        "List:- Compleltely order data type\n",
        "Methods;\n",
        "Append : Add something at the end\n",
        "pop: pop is used to remove specific element in the list\n",
        "reverse:\n",
        "sort:\n",
        "clear:\n",
        "index:\n",
        "insert:\n",
        "extend:\n",
        "copy:\n",
        "remove:\n",
        "10-07-2022\n",
        "\n"
      ],
      "metadata": {
        "id": "N3BMZDoCuCP8"
      }
    },
    {
      "cell_type": "markdown",
      "source": [
        ""
      ],
      "metadata": {
        "id": "LfgF8pEKibFs"
      }
    },
    {
      "cell_type": "code",
      "source": [
        "a = 30\n",
        "b = 10\n",
        "print (a+b)\n",
        "print (a*b)\n",
        "print (a/b)\n",
        "print (a-b)\n",
        "print (a%b)\n",
        "print (\" Artihementic valuses \", a^b)"
      ],
      "metadata": {
        "colab": {
          "base_uri": "https://localhost:8080/"
        },
        "id": "PfFWZD42ibl9",
        "outputId": "bac219f7-1674-4d60-e11f-922ab57083fe"
      },
      "execution_count": null,
      "outputs": [
        {
          "output_type": "stream",
          "name": "stdout",
          "text": [
            "40\n",
            "300\n",
            "3.0\n",
            "20\n",
            "0\n",
            " Artihementic valuses  20\n"
          ]
        }
      ]
    },
    {
      "cell_type": "code",
      "source": [
        "lst  = [10,20,30,40,50]\n",
        "print(type(lst))\n",
        "ls1 = [60,70,80,90,100]\n",
        "print(lst == ls1)\n",
        "print(lst != ls1)\n",
        "print(lst <= ls1)\n",
        "print(lst >= ls1)\n",
        "print(lst)"
      ],
      "metadata": {
        "colab": {
          "base_uri": "https://localhost:8080/"
        },
        "id": "gnIR2oat1ges",
        "outputId": "aa8f2a71-0aa2-4c41-b1bc-2707abbb773e"
      },
      "execution_count": null,
      "outputs": [
        {
          "output_type": "stream",
          "name": "stdout",
          "text": [
            "<class 'list'>\n",
            "False\n",
            "True\n",
            "True\n",
            "False\n",
            "[10, 20, 30, 40, 50]\n"
          ]
        }
      ]
    },
    {
      "cell_type": "code",
      "source": [
        "def gukan(count):\n",
        "    while count!=10:\n",
        "      print(count)\n",
        "      count=count+1;\n",
        "gukan(0)"
      ],
      "metadata": {
        "id": "Yxg-d-zrn6Aa",
        "outputId": "67498db4-54c2-4bf5-82bd-27b5d2d5449c",
        "colab": {
          "base_uri": "https://localhost:8080/"
        }
      },
      "execution_count": null,
      "outputs": [
        {
          "output_type": "stream",
          "name": "stdout",
          "text": [
            "0\n",
            "1\n",
            "2\n",
            "3\n",
            "4\n",
            "5\n",
            "6\n",
            "7\n",
            "8\n",
            "9\n"
          ]
        }
      ]
    },
    {
      "cell_type": "code",
      "source": [
        "name = \"anajn\"\n",
        "type(name)"
      ],
      "metadata": {
        "colab": {
          "base_uri": "https://localhost:8080/"
        },
        "id": "1oGYF7j5dCr3",
        "outputId": "b2dbcfd5-b1db-4340-d748-b047d6d181a1"
      },
      "execution_count": null,
      "outputs": [
        {
          "output_type": "execute_result",
          "data": {
            "text/plain": [
              "str"
            ]
          },
          "metadata": {},
          "execution_count": 2
        }
      ]
    },
    {
      "cell_type": "code",
      "source": [
        "c = 10\n",
        "d=\"python\"\n",
        "a = 1.7\n",
        "print(type(a))\n",
        "print(type(d))\n",
        "print(type(c))\n"
      ],
      "metadata": {
        "id": "yFt_a4FAzo4U",
        "colab": {
          "base_uri": "https://localhost:8080/"
        },
        "outputId": "8d70a393-1b35-43c8-abaa-937b0ed6a26d"
      },
      "execution_count": null,
      "outputs": [
        {
          "output_type": "stream",
          "name": "stdout",
          "text": [
            "<class 'float'>\n",
            "<class 'str'>\n",
            "<class 'int'>\n"
          ]
        }
      ]
    },
    {
      "cell_type": "markdown",
      "source": [
        "# New Section"
      ],
      "metadata": {
        "id": "yzyQfIZNzHBW"
      }
    },
    {
      "cell_type": "code",
      "source": [
        "print(\"Hello World\")\n",
        "print(\"Hello Vedhams, You had broken my Mobile\")\n",
        "\n",
        "a=5\n",
        "b=8\n",
        "print(a+b)\n",
        "print (a-b)\n",
        "\n",
        "\n",
        "Student =10\n",
        "print(Student)"
      ],
      "metadata": {
        "colab": {
          "base_uri": "https://localhost:8080/"
        },
        "id": "_IS4r3MAz4bE",
        "outputId": "77a77020-5aea-4e91-eee8-450369835f83"
      },
      "execution_count": null,
      "outputs": [
        {
          "output_type": "stream",
          "name": "stdout",
          "text": [
            "Hello World\n",
            "Hello Vedhams, You had broken my Mobile\n",
            "13\n",
            "-3\n",
            "10\n"
          ]
        }
      ]
    },
    {
      "cell_type": "code",
      "source": [
        "list1 = [1,2,3,4,5,6,]\n",
        "print(list1[5])\n",
        "print(list1[:])\n",
        "print(list1[::-1])\n",
        "print(list1[2:5])\n",
        "print(list1[:2])\n",
        "print(list1[3:])\n",
        "print(list1[-1::])\n",
        "print(list1[0:6:8])"
      ],
      "metadata": {
        "id": "RpXKQH-kwpd2",
        "colab": {
          "base_uri": "https://localhost:8080/"
        },
        "outputId": "c9869320-774d-42a5-ea8a-260912ad5ef3"
      },
      "execution_count": null,
      "outputs": [
        {
          "output_type": "stream",
          "name": "stdout",
          "text": [
            "6\n",
            "[1, 2, 3, 4, 5, 6]\n",
            "[6, 5, 4, 3, 2, 1]\n",
            "[3, 4, 5]\n",
            "[1, 2]\n",
            "[4, 5, 6]\n",
            "[6]\n",
            "[1]\n"
          ]
        }
      ]
    },
    {
      "cell_type": "code",
      "source": [
        "list1=[10,20,30,40,50]\n",
        "list2 =[1,2,3,4,5]\n",
        "list3= [6,8,79,5,42,65,4]\n",
        "#append\n",
        "list1.append(60)\n",
        "#insert\n",
        "list1.insert(6,80)\n",
        "\n",
        "print(list1)\n",
        "print(list1+list2)\n",
        "#sort\n",
        "list3.sort()\n",
        "print(list3)\n",
        "#remove\n",
        "a=['apple','bat','cat','doll','elephant']\n",
        "a.remove(\"apple\")\n",
        "print(a)\n",
        "#pop pop number will take index number (pop will remove the element of the index value)\n",
        "a=['apple','bat','cat','doll','elephant']\n",
        "a.pop(2)\n",
        "print(a)\n",
        "#clear\n",
        "a.clear()\n",
        "print(a)"
      ],
      "metadata": {
        "colab": {
          "base_uri": "https://localhost:8080/"
        },
        "id": "opkqskQqscgY",
        "outputId": "548d665a-1bdf-4add-9824-d63dfe95d3d0"
      },
      "execution_count": null,
      "outputs": [
        {
          "output_type": "stream",
          "name": "stdout",
          "text": [
            "[10, 20, 30, 40, 50, 60, 80]\n",
            "[10, 20, 30, 40, 50, 60, 80, 1, 2, 3, 4, 5]\n",
            "[4, 5, 6, 8, 42, 65, 79]\n",
            "['bat', 'cat', 'doll', 'elephant']\n",
            "['apple', 'bat', 'doll', 'elephant']\n",
            "[]\n"
          ]
        }
      ]
    },
    {
      "cell_type": "code",
      "source": [
        "list1 = ['apple','banana','orange','grape']\n",
        "# Join\n",
        "print(\" \" \"&\" \" \" .join(list1))\n",
        "# extend\n",
        "list1.extend(['kiwi','pinaplle'])\n",
        "print(list1)"
      ],
      "metadata": {
        "id": "f09PxLFYzugP",
        "colab": {
          "base_uri": "https://localhost:8080/"
        },
        "outputId": "d7bf18ee-bbef-46d3-b429-63cf04a153d7"
      },
      "execution_count": null,
      "outputs": [
        {
          "output_type": "stream",
          "name": "stdout",
          "text": [
            "apple & banana & orange & grape\n",
            "['apple', 'banana', 'orange', 'grape', 'kiwi', 'pinaplle']\n"
          ]
        }
      ]
    },
    {
      "cell_type": "code",
      "source": [
        "#Tuple\n",
        "t1=(90,80,70,60,50)\n",
        "#t1.count(1)\n",
        "print(t1.count(80))\n",
        "#print(type(t1))\n",
        "#print(len(t1))"
      ],
      "metadata": {
        "colab": {
          "base_uri": "https://localhost:8080/"
        },
        "id": "u3GWM7Oi2xW5",
        "outputId": "8fbdbcc8-388c-4c57-b657-db13760b7d3e"
      },
      "execution_count": null,
      "outputs": [
        {
          "output_type": "stream",
          "name": "stdout",
          "text": [
            "1\n"
          ]
        }
      ]
    },
    {
      "cell_type": "code",
      "source": [
        "# create a list\n",
        "numbers = [2, 3, 5, 2, 11, 2, 7]\n",
        "\n",
        "# check the count of 2\n",
        "count = numbers.count(2)\n",
        "\n",
        "\n",
        "print('Count of 2:', count)\n"
      ],
      "metadata": {
        "colab": {
          "base_uri": "https://localhost:8080/"
        },
        "id": "jzUOy7J45Kqy",
        "outputId": "3d0feded-cfe0-46b6-decf-f97d08bae7a2"
      },
      "execution_count": null,
      "outputs": [
        {
          "output_type": "stream",
          "name": "stdout",
          "text": [
            "Count of 2: 3\n"
          ]
        }
      ]
    },
    {
      "cell_type": "code",
      "source": [
        "days={\"MOn\",\"Tue\",\"Wed\",\"Thu\",\"Fri\",\"Sat\",\"Sun\"}\n",
        "print(days)\n",
        "print(type(days))\n",
        "days1=set([\"MOn\",\"Tue\",\"Wed\",\"Thu\",\"Fri\",\"Sat\",'Sun'])\n",
        "print(days1)"
      ],
      "metadata": {
        "colab": {
          "base_uri": "https://localhost:8080/"
        },
        "id": "5Gvit8zg57Sb",
        "outputId": "111c701d-2f4c-4b64-c77a-946bdedd3b22"
      },
      "execution_count": null,
      "outputs": [
        {
          "output_type": "stream",
          "name": "stdout",
          "text": [
            "{'MOn', 'Thu', 'Wed', 'Sat', 'Sun', 'Tue', 'Fri'}\n",
            "<class 'set'>\n",
            "{'MOn', 'Thu', 'Wed', 'Sat', 'Sun', 'Tue', 'Fri'}\n"
          ]
        }
      ]
    },
    {
      "cell_type": "code",
      "source": [
        "#add\n",
        "months = set([\"Jan\",\"feb\",\"mar\"])\n",
        "print(\" This is the original set:\", months)\n",
        "months.add(\"Apr\")\n",
        "months.update([\"May\",\"Jun\",\"Jul\"])\n",
        "months.remove(\"Jul\")\n",
        "print(months)\n",
        "\n",
        "\n",
        "             "
      ],
      "metadata": {
        "colab": {
          "base_uri": "https://localhost:8080/"
        },
        "id": "s-AQL4FU9Xfj",
        "outputId": "7ad45249-f8d5-47a9-faff-1c327863ea7a"
      },
      "execution_count": null,
      "outputs": [
        {
          "output_type": "stream",
          "name": "stdout",
          "text": [
            " This is the original set: {'Jan', 'mar', 'feb'}\n",
            "{'mar', 'Jan', 'May', 'Apr', 'feb', 'Jun'}\n"
          ]
        }
      ]
    },
    {
      "cell_type": "code",
      "source": [
        "#union\n",
        "days={\"MOn\",\"Tue\",\"Wed\"}\n",
        "days2={\"Thu\",\"Fri\",\"Sat\",\"Sun\"}\n",
        "print(days.union(days2))\n",
        "#intersection\n",
        "\n",
        "a={1,2,3,4,5,6,}\n",
        "b={3,4,1,9,8,10}\n",
        "print(a.intersection(b))\n",
        "print(a.symmetric_difference(b))"
      ],
      "metadata": {
        "colab": {
          "base_uri": "https://localhost:8080/"
        },
        "id": "Ryxrfzpz_3ym",
        "outputId": "65566a04-b078-444a-fbfb-82bf72da3add"
      },
      "execution_count": null,
      "outputs": [
        {
          "output_type": "stream",
          "name": "stdout",
          "text": [
            "{'MOn', 'Sat', 'Sun', 'Tue', 'Thu', 'Wed', 'Fri'}\n",
            "{1, 3, 4}\n",
            "{2, 5, 6, 8, 9, 10}\n"
          ]
        }
      ]
    },
    {
      "cell_type": "code",
      "source": [
        "#dict\n",
        "employee= {\"1\":\"anjan\",\"2\":\"Sangeeta\",\"3\":\"Purvi\",\"4\":\"vedha\"}\n",
        "print(employee)\n",
        "print(type(employee))\n",
        "#pop\n",
        "employee= {\"1\":\"anjan\",\"2\":\"Sangeeta\",\"3\":\"Purvi\",\"4\":\"vedha\"}\n",
        "#print(employee.pop(\"1\"))\n",
        "print(employee)\n",
        "print(employee.keys())\n",
        "print(employee.values())\n",
        "print(employee.items())"
      ],
      "metadata": {
        "colab": {
          "base_uri": "https://localhost:8080/"
        },
        "id": "ZAh7Q13LBbws",
        "outputId": "5901985e-1ef8-467a-e7d8-40b9245c7953"
      },
      "execution_count": null,
      "outputs": [
        {
          "output_type": "stream",
          "name": "stdout",
          "text": [
            "{'1': 'anjan', '2': 'Sangeeta', '3': 'Purvi', '4': 'vedha'}\n",
            "<class 'dict'>\n",
            "{'1': 'anjan', '2': 'Sangeeta', '3': 'Purvi', '4': 'vedha'}\n",
            "dict_keys(['1', '2', '3', '4'])\n",
            "dict_values(['anjan', 'Sangeeta', 'Purvi', 'vedha'])\n",
            "dict_items([('1', 'anjan'), ('2', 'Sangeeta'), ('3', 'Purvi'), ('4', 'vedha')])\n"
          ]
        }
      ]
    },
    {
      "cell_type": "code",
      "source": [
        "a=10\n",
        "b=10\n",
        "if a==b:\n",
        "    print(\"Equal\")\n",
        "else:\n",
        "    print(\"Not equal\")"
      ],
      "metadata": {
        "colab": {
          "base_uri": "https://localhost:8080/"
        },
        "id": "QRDMw8wjE7he",
        "outputId": "35392b1b-4598-4a7c-84cd-2f0e74bdfc62"
      },
      "execution_count": null,
      "outputs": [
        {
          "output_type": "stream",
          "name": "stdout",
          "text": [
            "Equal\n"
          ]
        }
      ]
    },
    {
      "cell_type": "code",
      "source": [
        "a=10\n",
        "b=10\n",
        "if a!=b:\n",
        "    print(\"Equal\")\n",
        "elif a>b:\n",
        "    print(\" a is greater than b\")\n",
        "elif a<b:\n",
        "  print(\" a is Less than b\")\n",
        "else:\n",
        "    print(\"Not equal\")"
      ],
      "metadata": {
        "colab": {
          "base_uri": "https://localhost:8080/"
        },
        "id": "j0e-p547GkvU",
        "outputId": "fdd9a498-5b92-4c11-8d5e-3c7c413782e7"
      },
      "execution_count": null,
      "outputs": [
        {
          "output_type": "stream",
          "name": "stdout",
          "text": [
            "Not equal\n"
          ]
        }
      ]
    }
  ]
}
{
  "nbformat": 4,
  "nbformat_minor": 0,
  "metadata": {
    "colab": {
      "name": "Firstclass.ipynb",
      "provenance": [],
      "collapsed_sections": [],
      "authorship_tag": "ABX9TyMZqtIVykU/hSilUwiFf+qm",
      "include_colab_link": true
    },
    "kernelspec": {
      "name": "python3",
      "display_name": "Python 3"
    },
    "language_info": {
      "name": "python"
    }
  },
  "cells": [
    {
      "cell_type": "markdown",
      "metadata": {
        "id": "view-in-github",
        "colab_type": "text"
      },
      "source": [
        "<a href=\"https://colab.research.google.com/github/AnjanT/AnjanT/blob/main/Firstclass.ipynb\" target=\"_parent\"><img src=\"https://colab.research.google.com/assets/colab-badge.svg\" alt=\"Open In Colab\"/></a>"
      ]
    },
    {
      "cell_type": "code",
      "execution_count": 13,
      "metadata": {
        "id": "N67fW0bpsryv",
        "colab": {
          "base_uri": "https://localhost:8080/"
        },
        "outputId": "37ec79c2-22af-484e-c5a3-5195ea987ab5"
      },
      "outputs": [
        {
          "output_type": "stream",
          "name": "stdout",
          "text": [
            "None\n"
          ]
        }
      ],
      "source": [
        "def outer_function(a, b):\n",
        "    def inner_function(c, d):\n",
        "      return c + d\n",
        "      return inner_function(a, b)\n",
        "result = outer_function(5, 10)\n",
        "print(result)"
      ]
    },
    {
      "cell_type": "code",
      "source": [
        "speech = \"She said: \\\"Hi\\\"\"\n",
        "print(speech)"
      ],
      "metadata": {
        "colab": {
          "base_uri": "https://localhost:8080/"
        },
        "id": "Vn4HuWjLWaBe",
        "outputId": "44b94ca5-973b-4460-a18e-b18b50c7c6a3"
      },
      "execution_count": 16,
      "outputs": [
        {
          "output_type": "stream",
          "name": "stdout",
          "text": [
            "She said: \"Hi\"\n"
          ]
        }
      ]
    },
    {
      "cell_type": "code",
      "source": [
        "days = 365\n",
        "print(f\"How many days in a year : {days}\")"
      ],
      "metadata": {
        "colab": {
          "base_uri": "https://localhost:8080/"
        },
        "id": "T3aaAov3Wkqt",
        "outputId": "fb0c04de-fa2d-4032-ccac-38ce7963d295"
      },
      "execution_count": 25,
      "outputs": [
        {
          "output_type": "stream",
          "name": "stdout",
          "text": [
            "How many days in a year : 365\n"
          ]
        }
      ]
    },
    {
      "cell_type": "code",
      "source": [
        "n = 354\n",
        "new_n = float(n)\n",
        "print(new_n)"
      ],
      "metadata": {
        "colab": {
          "base_uri": "https://localhost:8080/"
        },
        "id": "pKC9YoAQYIqq",
        "outputId": "89229718-4453-4cf4-d2bd-944f41ca9657"
      },
      "execution_count": 26,
      "outputs": [
        {
          "output_type": "stream",
          "name": "stdout",
          "text": [
            "354.0\n"
          ]
        }
      ]
    },
    {
      "cell_type": "code",
      "source": [
        "a = 4\n",
        "a += 2\n",
        "print(a)"
      ],
      "metadata": {
        "colab": {
          "base_uri": "https://localhost:8080/"
        },
        "id": "KIDo9HFzYTm_",
        "outputId": "7d283a61-8042-4396-c43e-84353ff8e62d"
      },
      "execution_count": 31,
      "outputs": [
        {
          "output_type": "stream",
          "name": "stdout",
          "text": [
            "6\n"
          ]
        }
      ]
    },
    {
      "cell_type": "code",
      "source": [
        "def my_function():\n",
        "  print(\"Hello\")\n",
        "name = input(\"Your name:\")\n",
        "\n"
      ],
      "metadata": {
        "colab": {
          "base_uri": "https://localhost:8080/"
        },
        "id": "sMwAef0JZ4P5",
        "outputId": "5cb40ebc-e426-42fd-e58d-162bf170411f"
      },
      "execution_count": 40,
      "outputs": [
        {
          "name": "stdout",
          "output_type": "stream",
          "text": [
            "Your name:nani\n"
          ]
        }
      ]
    },
    {
      "cell_type": "code",
      "source": [
        "my_function()\n",
        "my_function()\n"
      ],
      "metadata": {
        "colab": {
          "base_uri": "https://localhost:8080/"
        },
        "id": "eHkze2zZbEMS",
        "outputId": "24f8b99c-3357-4e91-9765-bd13943aa5f5"
      },
      "execution_count": 42,
      "outputs": [
        {
          "output_type": "stream",
          "name": "stdout",
          "text": [
            "Hello\n",
            "Hello\n"
          ]
        }
      ]
    },
    {
      "cell_type": "code",
      "source": [
        "def add(n1, n2):\n",
        "    print(n1+n2)\n",
        "add(2, 3)"
      ],
      "metadata": {
        "colab": {
          "base_uri": "https://localhost:8080/"
        },
        "id": "E-zy3Hl0bP_S",
        "outputId": "8bb6f3da-f1de-454b-a588-ec3bfaaa57eb"
      },
      "execution_count": 48,
      "outputs": [
        {
          "output_type": "stream",
          "name": "stdout",
          "text": [
            "5\n"
          ]
        }
      ]
    },
    {
      "cell_type": "code",
      "source": [
        "def foo(a, b=4, c=6):\n",
        "    print(a, b, c)\n",
        " \n",
        "foo(20, c=12)\n"
      ],
      "metadata": {
        "colab": {
          "base_uri": "https://localhost:8080/"
        },
        "id": "C1moe4oXKQAl",
        "outputId": "84872e73-39f1-403a-b333-bffcf142e953"
      },
      "execution_count": 15,
      "outputs": [
        {
          "output_type": "stream",
          "name": "stdout",
          "text": [
            "20 4 12\n"
          ]
        }
      ]
    },
    {
      "cell_type": "code",
      "source": [
        "numbers = [1, 1, 2, 3, 5, 8, 13, 21, 34, 55]\n",
        "result = [num + 3 for num in numbers if num % 2 == 0]\n",
        "print(result)"
      ],
      "metadata": {
        "colab": {
          "base_uri": "https://localhost:8080/"
        },
        "id": "hgCMBZd1L043",
        "outputId": "b24b840d-8270-4481-d92e-33c59bdacaf9"
      },
      "execution_count": 14,
      "outputs": [
        {
          "output_type": "stream",
          "name": "stdout",
          "text": [
            "[5, 11, 37]\n"
          ]
        }
      ]
    },
    {
      "cell_type": "markdown",
      "source": [
        "Guido Van Rosuum\n",
        "Python 2 and Python 3,  Python 3.10.5 is launched on 2003\n",
        "Python 2----> print() ---> statement\n",
        "Python 3----> print() ---> Function( Funtions is execute perticuler tasks, Define & call).\n",
        "Pyhton 2 raw_input() -----> statement\n",
        "Python 3 input() ----> function\n",
        "\n",
        "charactors Single charactor ----> ''\n",
        "A to Z\n",
        "a to z\n",
        "string- Group of charactors ---> \"\"\n",
        "\n",
        "Global Variable are unique for world wide\n",
        "Operators: performs any operation on one or more variable/values\n",
        "1. assignment operators\n",
        "2.Comparison Operators/Relational Operators\n",
        "3.Indentity operators\n",
        "4.arthemetic operators\n",
        "5.Logical operators\n",
        "6.Membership Operators\n",
        "7.Bitwise operators\n",
        "\n",
        "\n",
        "\n",
        "\n",
        "09-07-2022- Saturday\n",
        "\n",
        "1.Data types : Classification or categorization is referred to As Data Type.\n",
        " a.Numaric Datatype ( Int,float,Complex)\n",
        " b.Sequence Data Type (Lists,tuple,sets,dict)\n",
        " c.Boolean (True ,False)\n",
        "2.Mutable VS Immutable Data Types\n",
        "3.Slicing in Python\n",
        "\n",
        "\n",
        "\n",
        "List:- Compleltely order data type\n",
        "Methods;\n",
        "Append : Add something at the end\n",
        "pop: pop is used to remove specific element in the list\n",
        "reverse:\n",
        "sort:\n",
        "clear:\n",
        "index:\n",
        "insert:\n",
        "extend:\n",
        "copy:\n",
        "remove:\n",
        "10-07-2022\n",
        "\n"
      ],
      "metadata": {
        "id": "N3BMZDoCuCP8"
      }
    },
    {
      "cell_type": "markdown",
      "source": [
        ""
      ],
      "metadata": {
        "id": "LfgF8pEKibFs"
      }
    },
    {
      "cell_type": "code",
      "source": [
        "a = 30\n",
        "b = 10\n",
        "print (a+b)\n",
        "print (a*b)\n",
        "print (a/b)\n",
        "print (a-b)\n",
        "print (a%b)\n",
        "print (\" Artihementic valuses \", a^b)"
      ],
      "metadata": {
        "colab": {
          "base_uri": "https://localhost:8080/"
        },
        "id": "PfFWZD42ibl9",
        "outputId": "bac219f7-1674-4d60-e11f-922ab57083fe"
      },
      "execution_count": null,
      "outputs": [
        {
          "output_type": "stream",
          "name": "stdout",
          "text": [
            "40\n",
            "300\n",
            "3.0\n",
            "20\n",
            "0\n",
            " Artihementic valuses  20\n"
          ]
        }
      ]
    },
    {
      "cell_type": "code",
      "source": [
        "lst  = [10,20,30,40,50]\n",
        "print(type(lst))\n",
        "ls1 = [60,70,80,90,100]\n",
        "print(lst == ls1)\n",
        "print(lst != ls1)\n",
        "print(lst <= ls1)\n",
        "print(lst >= ls1)\n",
        "print(lst)"
      ],
      "metadata": {
        "colab": {
          "base_uri": "https://localhost:8080/"
        },
        "id": "gnIR2oat1ges",
        "outputId": "aa8f2a71-0aa2-4c41-b1bc-2707abbb773e"
      },
      "execution_count": null,
      "outputs": [
        {
          "output_type": "stream",
          "name": "stdout",
          "text": [
            "<class 'list'>\n",
            "False\n",
            "True\n",
            "True\n",
            "False\n",
            "[10, 20, 30, 40, 50]\n"
          ]
        }
      ]
    },
    {
      "cell_type": "code",
      "source": [
        "def gukan(count):\n",
        "    while count!=10:\n",
        "      print(count)\n",
        "      count=count+1;\n",
        "gukan(0)"
      ],
      "metadata": {
        "id": "Yxg-d-zrn6Aa",
        "outputId": "67498db4-54c2-4bf5-82bd-27b5d2d5449c",
        "colab": {
          "base_uri": "https://localhost:8080/"
        }
      },
      "execution_count": null,
      "outputs": [
        {
          "output_type": "stream",
          "name": "stdout",
          "text": [
            "0\n",
            "1\n",
            "2\n",
            "3\n",
            "4\n",
            "5\n",
            "6\n",
            "7\n",
            "8\n",
            "9\n"
          ]
        }
      ]
    },
    {
      "cell_type": "code",
      "source": [
        "name = \"anajn\"\n",
        "type(name)"
      ],
      "metadata": {
        "colab": {
          "base_uri": "https://localhost:8080/"
        },
        "id": "1oGYF7j5dCr3",
        "outputId": "b2dbcfd5-b1db-4340-d748-b047d6d181a1"
      },
      "execution_count": null,
      "outputs": [
        {
          "output_type": "execute_result",
          "data": {
            "text/plain": [
              "str"
            ]
          },
          "metadata": {},
          "execution_count": 2
        }
      ]
    },
    {
      "cell_type": "code",
      "source": [
        "c = 10\n",
        "d=\"python\"\n",
        "a = 1.7\n",
        "print(type(a))\n",
        "print(type(d))\n",
        "print(type(c))\n"
      ],
      "metadata": {
        "id": "yFt_a4FAzo4U",
        "colab": {
          "base_uri": "https://localhost:8080/"
        },
        "outputId": "8d70a393-1b35-43c8-abaa-937b0ed6a26d"
      },
      "execution_count": null,
      "outputs": [
        {
          "output_type": "stream",
          "name": "stdout",
          "text": [
            "<class 'float'>\n",
            "<class 'str'>\n",
            "<class 'int'>\n"
          ]
        }
      ]
    },
    {
      "cell_type": "markdown",
      "source": [
        "# New Section"
      ],
      "metadata": {
        "id": "yzyQfIZNzHBW"
      }
    },
    {
      "cell_type": "code",
      "source": [
        "print(\"Hello World\")\n",
        "print(\"Hello Vedhams, You had broken my Mobile\")\n",
        "\n",
        "a=5\n",
        "b=8\n",
        "print(a+b)\n",
        "print (a-b)\n",
        "\n",
        "\n",
        "Student =10\n",
        "print(Student)"
      ],
      "metadata": {
        "colab": {
          "base_uri": "https://localhost:8080/"
        },
        "id": "_IS4r3MAz4bE",
        "outputId": "77a77020-5aea-4e91-eee8-450369835f83"
      },
      "execution_count": null,
      "outputs": [
        {
          "output_type": "stream",
          "name": "stdout",
          "text": [
            "Hello World\n",
            "Hello Vedhams, You had broken my Mobile\n",
            "13\n",
            "-3\n",
            "10\n"
          ]
        }
      ]
    },
    {
      "cell_type": "code",
      "source": [
        "list1 = [1,2,3,4,5,6,]\n",
        "print(list1[5])\n",
        "print(list1[:])\n",
        "print(list1[::-1])\n",
        "print(list1[2:5])\n",
        "print(list1[:2])\n",
        "print(list1[3:])\n",
        "print(list1[-1::])\n",
        "print(list1[0:6:8])"
      ],
      "metadata": {
        "id": "RpXKQH-kwpd2",
        "colab": {
          "base_uri": "https://localhost:8080/"
        },
        "outputId": "c9869320-774d-42a5-ea8a-260912ad5ef3"
      },
      "execution_count": null,
      "outputs": [
        {
          "output_type": "stream",
          "name": "stdout",
          "text": [
            "6\n",
            "[1, 2, 3, 4, 5, 6]\n",
            "[6, 5, 4, 3, 2, 1]\n",
            "[3, 4, 5]\n",
            "[1, 2]\n",
            "[4, 5, 6]\n",
            "[6]\n",
            "[1]\n"
          ]
        }
      ]
    },
    {
      "cell_type": "code",
      "source": [
        "list1=[10,20,30,40,50]\n",
        "list2 =[1,2,3,4,5]\n",
        "list3= [6,8,79,5,42,65,4]\n",
        "#append\n",
        "list1.append(60)\n",
        "#insert\n",
        "list1.insert(6,80)\n",
        "\n",
        "print(list1)\n",
        "print(list1+list2)\n",
        "#sort\n",
        "list3.sort()\n",
        "print(list3)\n",
        "#remove\n",
        "a=['apple','bat','cat','doll','elephant']\n",
        "a.remove(\"apple\")\n",
        "print(a)\n",
        "#pop pop number will take index number (pop will remove the element of the index value)\n",
        "a=['apple','bat','cat','doll','elephant']\n",
        "a.pop(2)\n",
        "print(a)\n",
        "#clear\n",
        "a.clear()\n",
        "print(a)"
      ],
      "metadata": {
        "colab": {
          "base_uri": "https://localhost:8080/"
        },
        "id": "opkqskQqscgY",
        "outputId": "548d665a-1bdf-4add-9824-d63dfe95d3d0"
      },
      "execution_count": null,
      "outputs": [
        {
          "output_type": "stream",
          "name": "stdout",
          "text": [
            "[10, 20, 30, 40, 50, 60, 80]\n",
            "[10, 20, 30, 40, 50, 60, 80, 1, 2, 3, 4, 5]\n",
            "[4, 5, 6, 8, 42, 65, 79]\n",
            "['bat', 'cat', 'doll', 'elephant']\n",
            "['apple', 'bat', 'doll', 'elephant']\n",
            "[]\n"
          ]
        }
      ]
    },
    {
      "cell_type": "code",
      "source": [
        "list1 = ['apple','banana','orange','grape']\n",
        "# Join\n",
        "print(\" \" \"&\" \" \" .join(list1))\n",
        "# extend\n",
        "list1.extend(['kiwi','pinaplle'])\n",
        "print(list1)"
      ],
      "metadata": {
        "id": "f09PxLFYzugP",
        "colab": {
          "base_uri": "https://localhost:8080/"
        },
        "outputId": "d7bf18ee-bbef-46d3-b429-63cf04a153d7"
      },
      "execution_count": null,
      "outputs": [
        {
          "output_type": "stream",
          "name": "stdout",
          "text": [
            "apple & banana & orange & grape\n",
            "['apple', 'banana', 'orange', 'grape', 'kiwi', 'pinaplle']\n"
          ]
        }
      ]
    },
    {
      "cell_type": "code",
      "source": [
        "#Tuple\n",
        "t1=(90,80,70,60,50)\n",
        "#t1.count(1)\n",
        "print(t1.count(80))\n",
        "#print(type(t1))\n",
        "#print(len(t1))"
      ],
      "metadata": {
        "colab": {
          "base_uri": "https://localhost:8080/"
        },
        "id": "u3GWM7Oi2xW5",
        "outputId": "8fbdbcc8-388c-4c57-b657-db13760b7d3e"
      },
      "execution_count": null,
      "outputs": [
        {
          "output_type": "stream",
          "name": "stdout",
          "text": [
            "1\n"
          ]
        }
      ]
    },
    {
      "cell_type": "code",
      "source": [
        "# create a list\n",
        "numbers = [2, 3, 5, 2, 11, 2, 7]\n",
        "\n",
        "# check the count of 2\n",
        "count = numbers.count(2)\n",
        "\n",
        "\n",
        "print('Count of 2:', count)\n"
      ],
      "metadata": {
        "colab": {
          "base_uri": "https://localhost:8080/"
        },
        "id": "jzUOy7J45Kqy",
        "outputId": "3d0feded-cfe0-46b6-decf-f97d08bae7a2"
      },
      "execution_count": null,
      "outputs": [
        {
          "output_type": "stream",
          "name": "stdout",
          "text": [
            "Count of 2: 3\n"
          ]
        }
      ]
    },
    {
      "cell_type": "code",
      "source": [
        "days={\"MOn\",\"Tue\",\"Wed\",\"Thu\",\"Fri\",\"Sat\",\"Sun\"}\n",
        "print(days)\n",
        "print(type(days))\n",
        "days1=set([\"MOn\",\"Tue\",\"Wed\",\"Thu\",\"Fri\",\"Sat\",'Sun'])\n",
        "print(days1)"
      ],
      "metadata": {
        "colab": {
          "base_uri": "https://localhost:8080/"
        },
        "id": "5Gvit8zg57Sb",
        "outputId": "111c701d-2f4c-4b64-c77a-946bdedd3b22"
      },
      "execution_count": null,
      "outputs": [
        {
          "output_type": "stream",
          "name": "stdout",
          "text": [
            "{'MOn', 'Thu', 'Wed', 'Sat', 'Sun', 'Tue', 'Fri'}\n",
            "<class 'set'>\n",
            "{'MOn', 'Thu', 'Wed', 'Sat', 'Sun', 'Tue', 'Fri'}\n"
          ]
        }
      ]
    },
    {
      "cell_type": "code",
      "source": [
        "#add\n",
        "months = set([\"Jan\",\"feb\",\"mar\"])\n",
        "print(\" This is the original set:\", months)\n",
        "months.add(\"Apr\")\n",
        "months.update([\"May\",\"Jun\",\"Jul\"])\n",
        "months.remove(\"Jul\")\n",
        "print(months)\n",
        "\n",
        "\n",
        "             "
      ],
      "metadata": {
        "colab": {
          "base_uri": "https://localhost:8080/"
        },
        "id": "s-AQL4FU9Xfj",
        "outputId": "7ad45249-f8d5-47a9-faff-1c327863ea7a"
      },
      "execution_count": null,
      "outputs": [
        {
          "output_type": "stream",
          "name": "stdout",
          "text": [
            " This is the original set: {'Jan', 'mar', 'feb'}\n",
            "{'mar', 'Jan', 'May', 'Apr', 'feb', 'Jun'}\n"
          ]
        }
      ]
    },
    {
      "cell_type": "code",
      "source": [
        "#union\n",
        "days={\"MOn\",\"Tue\",\"Wed\"}\n",
        "days2={\"Thu\",\"Fri\",\"Sat\",\"Sun\"}\n",
        "print(days.union(days2))\n",
        "#intersection\n",
        "\n",
        "a={1,2,3,4,5,6,}\n",
        "b={3,4,1,9,8,10}\n",
        "print(a.intersection(b))\n",
        "print(a.symmetric_difference(b))"
      ],
      "metadata": {
        "colab": {
          "base_uri": "https://localhost:8080/"
        },
        "id": "Ryxrfzpz_3ym",
        "outputId": "65566a04-b078-444a-fbfb-82bf72da3add"
      },
      "execution_count": null,
      "outputs": [
        {
          "output_type": "stream",
          "name": "stdout",
          "text": [
            "{'MOn', 'Sat', 'Sun', 'Tue', 'Thu', 'Wed', 'Fri'}\n",
            "{1, 3, 4}\n",
            "{2, 5, 6, 8, 9, 10}\n"
          ]
        }
      ]
    },
    {
      "cell_type": "code",
      "source": [
        "#dict\n",
        "employee= {\"1\":\"anjan\",\"2\":\"Sangeeta\",\"3\":\"Purvi\",\"4\":\"vedha\"}\n",
        "print(employee)\n",
        "print(type(employee))\n",
        "#pop\n",
        "employee= {\"1\":\"anjan\",\"2\":\"Sangeeta\",\"3\":\"Purvi\",\"4\":\"vedha\"}\n",
        "#print(employee.pop(\"1\"))\n",
        "print(employee)\n",
        "print(employee.keys())\n",
        "print(employee.values())\n",
        "print(employee.items())"
      ],
      "metadata": {
        "colab": {
          "base_uri": "https://localhost:8080/"
        },
        "id": "ZAh7Q13LBbws",
        "outputId": "5901985e-1ef8-467a-e7d8-40b9245c7953"
      },
      "execution_count": null,
      "outputs": [
        {
          "output_type": "stream",
          "name": "stdout",
          "text": [
            "{'1': 'anjan', '2': 'Sangeeta', '3': 'Purvi', '4': 'vedha'}\n",
            "<class 'dict'>\n",
            "{'1': 'anjan', '2': 'Sangeeta', '3': 'Purvi', '4': 'vedha'}\n",
            "dict_keys(['1', '2', '3', '4'])\n",
            "dict_values(['anjan', 'Sangeeta', 'Purvi', 'vedha'])\n",
            "dict_items([('1', 'anjan'), ('2', 'Sangeeta'), ('3', 'Purvi'), ('4', 'vedha')])\n"
          ]
        }
      ]
    },
    {
      "cell_type": "code",
      "source": [
        "a=10\n",
        "b=10\n",
        "if a==b:\n",
        "    print(\"Equal\")\n",
        "else:\n",
        "    print(\"Not equal\")"
      ],
      "metadata": {
        "colab": {
          "base_uri": "https://localhost:8080/"
        },
        "id": "QRDMw8wjE7he",
        "outputId": "35392b1b-4598-4a7c-84cd-2f0e74bdfc62"
      },
      "execution_count": null,
      "outputs": [
        {
          "output_type": "stream",
          "name": "stdout",
          "text": [
            "Equal\n"
          ]
        }
      ]
    },
    {
      "cell_type": "code",
      "source": [
        "a=10\n",
        "b=10\n",
        "if a!=b:\n",
        "    print(\"Equal\")\n",
        "elif a>b:\n",
        "    print(\" a is greater than b\")\n",
        "elif a<b:\n",
        "  print(\" a is Less than b\")\n",
        "else:\n",
        "    print(\"Not equal\")"
      ],
      "metadata": {
        "colab": {
          "base_uri": "https://localhost:8080/"
        },
        "id": "j0e-p547GkvU",
        "outputId": "fdd9a498-5b92-4c11-8d5e-3c7c413782e7"
      },
      "execution_count": null,
      "outputs": [
        {
          "output_type": "stream",
          "name": "stdout",
          "text": [
            "Not equal\n"
          ]
        }
      ]
    }
  ]
}
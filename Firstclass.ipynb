{
  "nbformat": 4,
  "nbformat_minor": 0,
  "metadata": {
    "colab": {
      "name": "Firstclass.ipynb",
      "provenance": [],
      "collapsed_sections": [],
      "authorship_tag": "ABX9TyPSwXDJv9QppSArQE9C2Q56",
      "include_colab_link": true
    },
    "kernelspec": {
      "name": "python3",
      "display_name": "Python 3"
    },
    "language_info": {
      "name": "python"
    }
  },
  "cells": [
    {
      "cell_type": "markdown",
      "metadata": {
        "id": "view-in-github",
        "colab_type": "text"
      },
      "source": [
        "<a href=\"https://colab.research.google.com/github/AnjanT/AnjanT/blob/main/Firstclass.ipynb\" target=\"_parent\"><img src=\"https://colab.research.google.com/assets/colab-badge.svg\" alt=\"Open In Colab\"/></a>"
      ]
    },
    {
      "cell_type": "code",
      "execution_count": null,
      "metadata": {
        "id": "N67fW0bpsryv"
      },
      "outputs": [],
      "source": [
        ""
      ]
    },
    {
      "cell_type": "markdown",
      "source": [
        "Guido Van Rosuum\n",
        "Python 2 and Python 3,  Python 3.10.5 is launched on 2003\n",
        "Python 2----> print() ---> statement\n",
        "Python 3----> print() ---> Function( Funtions is execute perticuler tasks, Define & call).\n",
        "Pyhton 2 raw_input() -----> statement\n",
        "Python 3 input() ----> function\n",
        "\n",
        "charactors Single charactor ----> ''\n",
        "A to Z\n",
        "a to z\n",
        "string- Group of charactors ---> \"\"\n",
        "\n",
        "Global Variable are unique for world wide\n",
        "Operators: performs any operation on one or more variable/values\n",
        "1. assignment operators\n",
        "2.Comparison Operators/Relational Operators\n",
        "3.Indentity operators\n",
        "4.arthemetic operators\n",
        "5.Logical operators\n",
        "6.Membership Operators\n",
        "7.Bitwise operators\n",
        "\n",
        "\n",
        "\n",
        "\n",
        "09-07-2022- Saturday\n",
        "\n",
        "1.Data types : Classification or categorization is referred to As Data Type.\n",
        " a.Numaric Datatype ( Int,float,Complex)\n",
        " b.Sequence Data Type (Lists,tuple,sets,dict)\n",
        " c.Boolean (True ,False)\n",
        "2.Mutable VS Immutable Data Types\n",
        "3.Slicing in Python\n",
        "\n",
        "\n",
        "\n",
        "List:-\n",
        "Methods;\n",
        "Append : Add something at the end\n",
        "pop: pop is used to remove specific element in the list\n",
        "reverse:\n",
        "sort:\n",
        "clear:\n",
        "index:\n",
        "insert:\n",
        "extend:\n",
        "copy:\n",
        "remove:\n",
        "10-07-2022\n",
        "\n"
      ],
      "metadata": {
        "id": "N3BMZDoCuCP8"
      }
    },
    {
      "cell_type": "markdown",
      "source": [
        ""
      ],
      "metadata": {
        "id": "LfgF8pEKibFs"
      }
    },
    {
      "cell_type": "code",
      "source": [
        ""
      ],
      "metadata": {
        "id": "PfFWZD42ibl9"
      },
      "execution_count": null,
      "outputs": []
    },
    {
      "cell_type": "code",
      "source": [
        "lst  = []\n",
        "for char in \"intellipatt\":\n",
        "lst.append(char)\n",
        "print(lst)"
      ],
      "metadata": {
        "colab": {
          "base_uri": "https://localhost:8080/",
          "height": 130
        },
        "id": "gnIR2oat1ges",
        "outputId": "9c8ffedf-cb5b-4f71-f81f-9dd26b170508"
      },
      "execution_count": null,
      "outputs": [
        {
          "output_type": "error",
          "ename": "SyntaxError",
          "evalue": "ignored",
          "traceback": [
            "\u001b[0;36m  File \u001b[0;32m\"<ipython-input-7-a3efa1b8ee3e>\"\u001b[0;36m, line \u001b[0;32m1\u001b[0m\n\u001b[0;31m    lst  = []:\u001b[0m\n\u001b[0m             ^\u001b[0m\n\u001b[0;31mSyntaxError\u001b[0m\u001b[0;31m:\u001b[0m invalid syntax\n"
          ]
        }
      ]
    },
    {
      "cell_type": "code",
      "source": [
        "def gukan(count):\n",
        "    while count!=10:\n",
        "      print(count)\n",
        "      count=count+1;\n",
        "gukan(0)"
      ],
      "metadata": {
        "id": "Yxg-d-zrn6Aa",
        "outputId": "67498db4-54c2-4bf5-82bd-27b5d2d5449c",
        "colab": {
          "base_uri": "https://localhost:8080/"
        }
      },
      "execution_count": null,
      "outputs": [
        {
          "output_type": "stream",
          "name": "stdout",
          "text": [
            "0\n",
            "1\n",
            "2\n",
            "3\n",
            "4\n",
            "5\n",
            "6\n",
            "7\n",
            "8\n",
            "9\n"
          ]
        }
      ]
    },
    {
      "cell_type": "code",
      "source": [
        "name = \"anajn\"\n",
        "type(name)"
      ],
      "metadata": {
        "colab": {
          "base_uri": "https://localhost:8080/"
        },
        "id": "1oGYF7j5dCr3",
        "outputId": "b2dbcfd5-b1db-4340-d748-b047d6d181a1"
      },
      "execution_count": null,
      "outputs": [
        {
          "output_type": "execute_result",
          "data": {
            "text/plain": [
              "str"
            ]
          },
          "metadata": {},
          "execution_count": 2
        }
      ]
    },
    {
      "cell_type": "code",
      "source": [
        "c = 10\n",
        "d=\"python\"\n",
        "a = 1.7\n",
        "print(type(a))\n",
        "print(type(d))\n",
        "print(type(c))\n"
      ],
      "metadata": {
        "id": "yFt_a4FAzo4U",
        "colab": {
          "base_uri": "https://localhost:8080/"
        },
        "outputId": "8d70a393-1b35-43c8-abaa-937b0ed6a26d"
      },
      "execution_count": null,
      "outputs": [
        {
          "output_type": "stream",
          "name": "stdout",
          "text": [
            "<class 'float'>\n",
            "<class 'str'>\n",
            "<class 'int'>\n"
          ]
        }
      ]
    },
    {
      "cell_type": "markdown",
      "source": [
        "# New Section"
      ],
      "metadata": {
        "id": "yzyQfIZNzHBW"
      }
    },
    {
      "cell_type": "code",
      "source": [
        "print(\"Hello World\")\n",
        "print(\"Hello Vedhams, You had broken my Mobile\")\n",
        "\n",
        "a=5\n",
        "b=8\n",
        "print(a+b)\n",
        "print (a-b)\n",
        "\n",
        "\n",
        "Student =10\n",
        "print(Student)"
      ],
      "metadata": {
        "colab": {
          "base_uri": "https://localhost:8080/"
        },
        "id": "_IS4r3MAz4bE",
        "outputId": "77a77020-5aea-4e91-eee8-450369835f83"
      },
      "execution_count": null,
      "outputs": [
        {
          "output_type": "stream",
          "name": "stdout",
          "text": [
            "Hello World\n",
            "Hello Vedhams, You had broken my Mobile\n",
            "13\n",
            "-3\n",
            "10\n"
          ]
        }
      ]
    },
    {
      "cell_type": "code",
      "source": [
        ""
      ],
      "metadata": {
        "id": "RpXKQH-kwpd2"
      },
      "execution_count": null,
      "outputs": []
    }
  ]
}
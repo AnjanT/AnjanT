{
  "nbformat": 4,
  "nbformat_minor": 0,
  "metadata": {
    "colab": {
      "name": "Firstclass.ipynb",
      "provenance": [],
      "collapsed_sections": [],
      "authorship_tag": "ABX9TyP5vCLyGJwDRj+RK8F75Myi",
      "include_colab_link": true
    },
    "kernelspec": {
      "name": "python3",
      "display_name": "Python 3"
    },
    "language_info": {
      "name": "python"
    }
  },
  "cells": [
    {
      "cell_type": "markdown",
      "metadata": {
        "id": "view-in-github",
        "colab_type": "text"
      },
      "source": [
        "<a href=\"https://colab.research.google.com/github/AnjanT/AnjanT/blob/main/Firstclass.ipynb\" target=\"_parent\"><img src=\"https://colab.research.google.com/assets/colab-badge.svg\" alt=\"Open In Colab\"/></a>"
      ]
    },
    {
      "cell_type": "code",
      "execution_count": null,
      "metadata": {
        "id": "N67fW0bpsryv"
      },
      "outputs": [],
      "source": [
        ""
      ]
    },
    {
      "cell_type": "markdown",
      "source": [
        "Guido Van Rosuum\n",
        "Python 2 and Python 3,  Python 3.10.5 is launched on 2003\n",
        "Python 2----> print() ---> statement\n",
        "Python 3----> print() ---> Function( Funtions is execute periculer tasks, Define & call).\n",
        "Pyhton 2 raw_input() -----> statement\n",
        "Python 3 input() ----> function\n",
        "\n",
        "charactors Single charactor ----> ''\n",
        "A to Z\n",
        "a to z\n",
        "string- Group of charactors ---> \"\"\n",
        "\n",
        "Global Variable are unique for world wide\n",
        "Operators: performs any operation on one or more variable/values\n",
        "1. assignment operators\n",
        "2.Comparison Operators/Relational Operators\n",
        "3.Indentity operators\n",
        "4.arthemetic operators\n",
        "5.Logical operators\n",
        "6.Membership Operators\n",
        "7.Bitwise operators\n"
      ],
      "metadata": {
        "id": "N3BMZDoCuCP8"
      }
    },
    {
      "cell_type": "code",
      "source": [
        "\n"
      ],
      "metadata": {
        "id": "yFt_a4FAzo4U"
      },
      "execution_count": null,
      "outputs": []
    },
    {
      "cell_type": "markdown",
      "source": [
        "# New Section"
      ],
      "metadata": {
        "id": "yzyQfIZNzHBW"
      }
    },
    {
      "cell_type": "code",
      "source": [
        "print(\"Hello World\")\n",
        "print(\"Hello Vedhams, You had broken my Mobile\")\n",
        "\n",
        "a=5\n",
        "b=8\n",
        "print(a+b)\n",
        "print (a-b)\n",
        "\n",
        "\n",
        "Student =10\n",
        "print(Student)"
      ],
      "metadata": {
        "colab": {
          "base_uri": "https://localhost:8080/"
        },
        "id": "_IS4r3MAz4bE",
        "outputId": "77a77020-5aea-4e91-eee8-450369835f83"
      },
      "execution_count": 10,
      "outputs": [
        {
          "output_type": "stream",
          "name": "stdout",
          "text": [
            "Hello World\n",
            "Hello Vedhams, You had broken my Mobile\n",
            "13\n",
            "-3\n",
            "10\n"
          ]
        }
      ]
    }
  ]
}